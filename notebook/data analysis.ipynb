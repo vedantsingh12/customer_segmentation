{
 "cells": [
  {
   "cell_type": "code",
   "execution_count": 1,
   "metadata": {},
   "outputs": [],
   "source": [
    "import pandas as pd \n",
    "import numpy as np \n",
    "import matplotlib.pyplot as plt \n",
    "import seaborn as sns\n",
    "from sklearn.preprocessing import StandardScaler\n",
    "from sklearn.cluster import KMeans\n"
   ]
  },
  {
   "cell_type": "code",
   "execution_count": 2,
   "metadata": {},
   "outputs": [
    {
     "data": {
      "text/html": [
       "<div>\n",
       "<style scoped>\n",
       "    .dataframe tbody tr th:only-of-type {\n",
       "        vertical-align: middle;\n",
       "    }\n",
       "\n",
       "    .dataframe tbody tr th {\n",
       "        vertical-align: top;\n",
       "    }\n",
       "\n",
       "    .dataframe thead th {\n",
       "        text-align: right;\n",
       "    }\n",
       "</style>\n",
       "<table border=\"1\" class=\"dataframe\">\n",
       "  <thead>\n",
       "    <tr style=\"text-align: right;\">\n",
       "      <th></th>\n",
       "      <th>Customer_ID</th>\n",
       "      <th>Age</th>\n",
       "      <th>Gender</th>\n",
       "      <th>Occupation</th>\n",
       "      <th>Income_Bracket</th>\n",
       "      <th>Family_Size</th>\n",
       "      <th>Marital_Status</th>\n",
       "      <th>Education_Level</th>\n",
       "      <th>Region</th>\n",
       "      <th>Monthly_Revenue</th>\n",
       "      <th>...</th>\n",
       "      <th>Last_Interaction_Days</th>\n",
       "      <th>Number_of_Complaints</th>\n",
       "      <th>Payment_Method</th>\n",
       "      <th>Bill_Payment_Timeliness</th>\n",
       "      <th>Outstanding_Balance</th>\n",
       "      <th>Loyalty_Points</th>\n",
       "      <th>Campaign_Responses</th>\n",
       "      <th>Social_Media_Activity</th>\n",
       "      <th>Network_Complaints</th>\n",
       "      <th>Service_Downtime_Impact</th>\n",
       "    </tr>\n",
       "  </thead>\n",
       "  <tbody>\n",
       "    <tr>\n",
       "      <th>0</th>\n",
       "      <td>CUST_00001</td>\n",
       "      <td>29</td>\n",
       "      <td>Male</td>\n",
       "      <td>Student</td>\n",
       "      <td>&lt;$50K</td>\n",
       "      <td>1</td>\n",
       "      <td>Divorced</td>\n",
       "      <td>PhD</td>\n",
       "      <td>West</td>\n",
       "      <td>422.391081</td>\n",
       "      <td>...</td>\n",
       "      <td>256</td>\n",
       "      <td>1</td>\n",
       "      <td>UPI</td>\n",
       "      <td>Late by &gt;5 Days</td>\n",
       "      <td>268.126534</td>\n",
       "      <td>648</td>\n",
       "      <td>0</td>\n",
       "      <td>High</td>\n",
       "      <td>5</td>\n",
       "      <td>High</td>\n",
       "    </tr>\n",
       "    <tr>\n",
       "      <th>1</th>\n",
       "      <td>CUST_00002</td>\n",
       "      <td>39</td>\n",
       "      <td>Male</td>\n",
       "      <td>Student</td>\n",
       "      <td>&gt;$100K</td>\n",
       "      <td>5</td>\n",
       "      <td>Married</td>\n",
       "      <td>PhD</td>\n",
       "      <td>West</td>\n",
       "      <td>278.674350</td>\n",
       "      <td>...</td>\n",
       "      <td>325</td>\n",
       "      <td>9</td>\n",
       "      <td>Debit Card</td>\n",
       "      <td>Late by &gt;5 Days</td>\n",
       "      <td>275.718834</td>\n",
       "      <td>693</td>\n",
       "      <td>5</td>\n",
       "      <td>Moderate</td>\n",
       "      <td>7</td>\n",
       "      <td>Low</td>\n",
       "    </tr>\n",
       "    <tr>\n",
       "      <th>2</th>\n",
       "      <td>CUST_00003</td>\n",
       "      <td>39</td>\n",
       "      <td>Female</td>\n",
       "      <td>Professional</td>\n",
       "      <td>$50K–$100K</td>\n",
       "      <td>4</td>\n",
       "      <td>Married</td>\n",
       "      <td>Bachelor’s</td>\n",
       "      <td>West</td>\n",
       "      <td>669.848562</td>\n",
       "      <td>...</td>\n",
       "      <td>188</td>\n",
       "      <td>9</td>\n",
       "      <td>Debit Card</td>\n",
       "      <td>Late by &gt;5 Days</td>\n",
       "      <td>182.159068</td>\n",
       "      <td>642</td>\n",
       "      <td>2</td>\n",
       "      <td>Low</td>\n",
       "      <td>1</td>\n",
       "      <td>High</td>\n",
       "    </tr>\n",
       "    <tr>\n",
       "      <th>3</th>\n",
       "      <td>CUST_00004</td>\n",
       "      <td>29</td>\n",
       "      <td>Female</td>\n",
       "      <td>Professional</td>\n",
       "      <td>&lt;$50K</td>\n",
       "      <td>3</td>\n",
       "      <td>Married</td>\n",
       "      <td>Bachelor’s</td>\n",
       "      <td>East</td>\n",
       "      <td>223.073176</td>\n",
       "      <td>...</td>\n",
       "      <td>186</td>\n",
       "      <td>3</td>\n",
       "      <td>Credit Card</td>\n",
       "      <td>Late by &lt;5 Days</td>\n",
       "      <td>146.421803</td>\n",
       "      <td>525</td>\n",
       "      <td>0</td>\n",
       "      <td>Moderate</td>\n",
       "      <td>6</td>\n",
       "      <td>High</td>\n",
       "    </tr>\n",
       "    <tr>\n",
       "      <th>4</th>\n",
       "      <td>CUST_00005</td>\n",
       "      <td>40</td>\n",
       "      <td>Female</td>\n",
       "      <td>Professional</td>\n",
       "      <td>&lt;$50K</td>\n",
       "      <td>3</td>\n",
       "      <td>Single</td>\n",
       "      <td>Bachelor’s</td>\n",
       "      <td>West</td>\n",
       "      <td>866.153758</td>\n",
       "      <td>...</td>\n",
       "      <td>149</td>\n",
       "      <td>4</td>\n",
       "      <td>Net Banking</td>\n",
       "      <td>Late by &lt;5 Days</td>\n",
       "      <td>94.528694</td>\n",
       "      <td>775</td>\n",
       "      <td>5</td>\n",
       "      <td>Low</td>\n",
       "      <td>8</td>\n",
       "      <td>Low</td>\n",
       "    </tr>\n",
       "  </tbody>\n",
       "</table>\n",
       "<p>5 rows × 30 columns</p>\n",
       "</div>"
      ],
      "text/plain": [
       "  Customer_ID  Age  Gender    Occupation Income_Bracket  Family_Size  \\\n",
       "0  CUST_00001   29    Male       Student          <$50K            1   \n",
       "1  CUST_00002   39    Male       Student         >$100K            5   \n",
       "2  CUST_00003   39  Female  Professional     $50K–$100K            4   \n",
       "3  CUST_00004   29  Female  Professional          <$50K            3   \n",
       "4  CUST_00005   40  Female  Professional          <$50K            3   \n",
       "\n",
       "  Marital_Status Education_Level Region  Monthly_Revenue  ...  \\\n",
       "0       Divorced             PhD   West       422.391081  ...   \n",
       "1        Married             PhD   West       278.674350  ...   \n",
       "2        Married      Bachelor’s   West       669.848562  ...   \n",
       "3        Married      Bachelor’s   East       223.073176  ...   \n",
       "4         Single      Bachelor’s   West       866.153758  ...   \n",
       "\n",
       "   Last_Interaction_Days  Number_of_Complaints  Payment_Method  \\\n",
       "0                    256                     1             UPI   \n",
       "1                    325                     9      Debit Card   \n",
       "2                    188                     9      Debit Card   \n",
       "3                    186                     3     Credit Card   \n",
       "4                    149                     4     Net Banking   \n",
       "\n",
       "   Bill_Payment_Timeliness Outstanding_Balance Loyalty_Points  \\\n",
       "0          Late by >5 Days          268.126534            648   \n",
       "1          Late by >5 Days          275.718834            693   \n",
       "2          Late by >5 Days          182.159068            642   \n",
       "3          Late by <5 Days          146.421803            525   \n",
       "4          Late by <5 Days           94.528694            775   \n",
       "\n",
       "   Campaign_Responses  Social_Media_Activity Network_Complaints  \\\n",
       "0                   0                   High                  5   \n",
       "1                   5               Moderate                  7   \n",
       "2                   2                    Low                  1   \n",
       "3                   0               Moderate                  6   \n",
       "4                   5                    Low                  8   \n",
       "\n",
       "  Service_Downtime_Impact  \n",
       "0                    High  \n",
       "1                     Low  \n",
       "2                    High  \n",
       "3                    High  \n",
       "4                     Low  \n",
       "\n",
       "[5 rows x 30 columns]"
      ]
     },
     "execution_count": 2,
     "metadata": {},
     "output_type": "execute_result"
    }
   ],
   "source": [
    "df=pd.read_csv(r'C:\\Users\\vs390\\OneDrive\\Desktop\\customer_segmentation_projects\\Data\\customer_segment_data.csv')\n",
    "df.head(5)\n"
   ]
  },
  {
   "cell_type": "code",
   "execution_count": 3,
   "metadata": {},
   "outputs": [
    {
     "data": {
      "text/plain": [
       "Index(['Customer_ID', 'Age', 'Gender', 'Occupation', 'Income_Bracket',\n",
       "       'Family_Size', 'Marital_Status', 'Education_Level', 'Region',\n",
       "       'Monthly_Revenue', 'CLTV', 'Avg_Monthly_Data_Usage_GB',\n",
       "       'Avg_Call_Duration_Minutes', 'Monthly_Transactions', 'Churn_Status',\n",
       "       'Subscription_Type', 'Retention_Offers_Availed', 'Feedback_Score',\n",
       "       'Preferred_Product_Type', 'Peak_Usage_Time', 'Last_Interaction_Days',\n",
       "       'Number_of_Complaints', 'Payment_Method', 'Bill_Payment_Timeliness',\n",
       "       'Outstanding_Balance', 'Loyalty_Points', 'Campaign_Responses',\n",
       "       'Social_Media_Activity', 'Network_Complaints',\n",
       "       'Service_Downtime_Impact'],\n",
       "      dtype='object')"
      ]
     },
     "execution_count": 3,
     "metadata": {},
     "output_type": "execute_result"
    }
   ],
   "source": [
    "df.columns"
   ]
  },
  {
   "cell_type": "code",
   "execution_count": 4,
   "metadata": {},
   "outputs": [
    {
     "data": {
      "text/html": [
       "<div>\n",
       "<style scoped>\n",
       "    .dataframe tbody tr th:only-of-type {\n",
       "        vertical-align: middle;\n",
       "    }\n",
       "\n",
       "    .dataframe tbody tr th {\n",
       "        vertical-align: top;\n",
       "    }\n",
       "\n",
       "    .dataframe thead th {\n",
       "        text-align: right;\n",
       "    }\n",
       "</style>\n",
       "<table border=\"1\" class=\"dataframe\">\n",
       "  <thead>\n",
       "    <tr style=\"text-align: right;\">\n",
       "      <th></th>\n",
       "      <th>Age</th>\n",
       "      <th>Monthly_Revenue</th>\n",
       "      <th>Avg_Monthly_Data_Usage_GB</th>\n",
       "      <th>CLTV</th>\n",
       "      <th>Feedback_Score</th>\n",
       "    </tr>\n",
       "  </thead>\n",
       "  <tbody>\n",
       "    <tr>\n",
       "      <th>0</th>\n",
       "      <td>29</td>\n",
       "      <td>422.391081</td>\n",
       "      <td>62.953681</td>\n",
       "      <td>3707.260729</td>\n",
       "      <td>10</td>\n",
       "    </tr>\n",
       "    <tr>\n",
       "      <th>1</th>\n",
       "      <td>39</td>\n",
       "      <td>278.674350</td>\n",
       "      <td>10.556741</td>\n",
       "      <td>7492.449343</td>\n",
       "      <td>6</td>\n",
       "    </tr>\n",
       "    <tr>\n",
       "      <th>2</th>\n",
       "      <td>39</td>\n",
       "      <td>669.848562</td>\n",
       "      <td>188.540155</td>\n",
       "      <td>18259.375954</td>\n",
       "      <td>7</td>\n",
       "    </tr>\n",
       "    <tr>\n",
       "      <th>3</th>\n",
       "      <td>29</td>\n",
       "      <td>223.073176</td>\n",
       "      <td>144.701083</td>\n",
       "      <td>7024.336443</td>\n",
       "      <td>10</td>\n",
       "    </tr>\n",
       "  </tbody>\n",
       "</table>\n",
       "</div>"
      ],
      "text/plain": [
       "   Age  Monthly_Revenue  Avg_Monthly_Data_Usage_GB          CLTV  \\\n",
       "0   29       422.391081                  62.953681   3707.260729   \n",
       "1   39       278.674350                  10.556741   7492.449343   \n",
       "2   39       669.848562                 188.540155  18259.375954   \n",
       "3   29       223.073176                 144.701083   7024.336443   \n",
       "\n",
       "   Feedback_Score  \n",
       "0              10  \n",
       "1               6  \n",
       "2               7  \n",
       "3              10  "
      ]
     },
     "execution_count": 4,
     "metadata": {},
     "output_type": "execute_result"
    }
   ],
   "source": [
    "features=df[['Age','Monthly_Revenue','Avg_Monthly_Data_Usage_GB','CLTV','Feedback_Score']]\n",
    "features.head(4)"
   ]
  },
  {
   "cell_type": "code",
   "execution_count": 5,
   "metadata": {},
   "outputs": [
    {
     "data": {
      "text/html": [
       "<div>\n",
       "<style scoped>\n",
       "    .dataframe tbody tr th:only-of-type {\n",
       "        vertical-align: middle;\n",
       "    }\n",
       "\n",
       "    .dataframe tbody tr th {\n",
       "        vertical-align: top;\n",
       "    }\n",
       "\n",
       "    .dataframe thead th {\n",
       "        text-align: right;\n",
       "    }\n",
       "</style>\n",
       "<table border=\"1\" class=\"dataframe\">\n",
       "  <thead>\n",
       "    <tr style=\"text-align: right;\">\n",
       "      <th></th>\n",
       "      <th>Age</th>\n",
       "      <th>Monthly_Revenue</th>\n",
       "      <th>Avg_Monthly_Data_Usage_GB</th>\n",
       "      <th>CLTV</th>\n",
       "      <th>Feedback_Score</th>\n",
       "    </tr>\n",
       "  </thead>\n",
       "  <tbody>\n",
       "    <tr>\n",
       "      <th>0</th>\n",
       "      <td>-0.853293</td>\n",
       "      <td>-0.399919</td>\n",
       "      <td>-0.670548</td>\n",
       "      <td>-1.217856</td>\n",
       "      <td>1.523250</td>\n",
       "    </tr>\n",
       "    <tr>\n",
       "      <th>1</th>\n",
       "      <td>-0.125848</td>\n",
       "      <td>-0.943870</td>\n",
       "      <td>-1.566624</td>\n",
       "      <td>-0.544271</td>\n",
       "      <td>0.135323</td>\n",
       "    </tr>\n",
       "    <tr>\n",
       "      <th>2</th>\n",
       "      <td>-0.125848</td>\n",
       "      <td>0.536679</td>\n",
       "      <td>1.477191</td>\n",
       "      <td>1.371732</td>\n",
       "      <td>0.482305</td>\n",
       "    </tr>\n",
       "  </tbody>\n",
       "</table>\n",
       "</div>"
      ],
      "text/plain": [
       "        Age  Monthly_Revenue  Avg_Monthly_Data_Usage_GB      CLTV  \\\n",
       "0 -0.853293        -0.399919                  -0.670548 -1.217856   \n",
       "1 -0.125848        -0.943870                  -1.566624 -0.544271   \n",
       "2 -0.125848         0.536679                   1.477191  1.371732   \n",
       "\n",
       "   Feedback_Score  \n",
       "0        1.523250  \n",
       "1        0.135323  \n",
       "2        0.482305  "
      ]
     },
     "execution_count": 5,
     "metadata": {},
     "output_type": "execute_result"
    }
   ],
   "source": [
    "scaler=StandardScaler()\n",
    "scaled_features=scaler.fit_transform(features)\n",
    "\n",
    "pd.DataFrame(scaled_features,columns=features.columns).head(3)"
   ]
  },
  {
   "cell_type": "code",
   "execution_count": 6,
   "metadata": {},
   "outputs": [
    {
     "data": {
      "image/png": "[encoded data removed]",
      "text/plain": [
       "<Figure size 800x500 with 1 Axes>"
      ]
     },
     "metadata": {},
     "output_type": "display_data"
    }
   ],
   "source": [
    "inertia=[]\n",
    "k_range=range(1,11)\n",
    "for k in k_range:\n",
    "    kmeans=KMeans(n_clusters=k,random_state=42)\n",
    "    kmeans.fit(scaled_features)\n",
    "    inertia.append(kmeans.inertia_)\n",
    "\n",
    "\n",
    "\n",
    "   \n",
    "plt.figure(figsize=(8,5))\n",
    "plt.plot(k_range,inertia,marker='o',linestyle='--',color='b')\n",
    "plt.title('Elbow method for optimal K')\n",
    "plt.xlabel('Number of clusters(K)')\n",
    "plt.ylabel(\" inertia\")\n",
    "plt.grid()\n",
    "plt.show()\n",
    "    \n",
    "    \n",
    "  "
   ]
  },
  {
   "cell_type": "code",
   "execution_count": 7,
   "metadata": {},
   "outputs": [
    {
     "data": {
      "text/html": [
       "<div>\n",
       "<style scoped>\n",
       "    .dataframe tbody tr th:only-of-type {\n",
       "        vertical-align: middle;\n",
       "    }\n",
       "\n",
       "    .dataframe tbody tr th {\n",
       "        vertical-align: top;\n",
       "    }\n",
       "\n",
       "    .dataframe thead th {\n",
       "        text-align: right;\n",
       "    }\n",
       "</style>\n",
       "<table border=\"1\" class=\"dataframe\">\n",
       "  <thead>\n",
       "    <tr style=\"text-align: right;\">\n",
       "      <th></th>\n",
       "      <th>Customer_ID</th>\n",
       "      <th>Segment</th>\n",
       "    </tr>\n",
       "  </thead>\n",
       "  <tbody>\n",
       "    <tr>\n",
       "      <th>0</th>\n",
       "      <td>CUST_00001</td>\n",
       "      <td>High=value</td>\n",
       "    </tr>\n",
       "    <tr>\n",
       "      <th>1</th>\n",
       "      <td>CUST_00002</td>\n",
       "      <td>High=value</td>\n",
       "    </tr>\n",
       "    <tr>\n",
       "      <th>2</th>\n",
       "      <td>CUST_00003</td>\n",
       "      <td>Mid-value</td>\n",
       "    </tr>\n",
       "  </tbody>\n",
       "</table>\n",
       "</div>"
      ],
      "text/plain": [
       "  Customer_ID     Segment\n",
       "0  CUST_00001  High=value\n",
       "1  CUST_00002  High=value\n",
       "2  CUST_00003   Mid-value"
      ]
     },
     "execution_count": 7,
     "metadata": {},
     "output_type": "execute_result"
    }
   ],
   "source": [
    "optimal_k=3\n",
    "kmeans=KMeans(n_clusters=optimal_k,random_state=42)\n",
    "df['Segment']=kmeans.fit_predict(scaled_features)\n",
    "\n",
    "segment_labels={0:'High=value',1:'Mid-value',2:'Low-value'}\n",
    "df['Segment']=df['Segment'].map(segment_labels)\n",
    "df[['Customer_ID','Segment']].head(3)\n"
   ]
  },
  {
   "cell_type": "code",
   "execution_count": 8,
   "metadata": {},
   "outputs": [
    {
     "data": {
      "text/plain": [
       "Segment     Customer_ID  Age  Gender  Occupation    Income_Bracket  Family_Size  Marital_Status  Education_Level  Region  Monthly_Revenue  CLTV          Avg_Monthly_Data_Usage_GB  Avg_Call_Duration_Minutes  Monthly_Transactions  Churn_Status  Subscription_Type  Retention_Offers_Availed  Feedback_Score  Preferred_Product_Type  Peak_Usage_Time  Last_Interaction_Days  Number_of_Complaints  Payment_Method  Bill_Payment_Timeliness  Outstanding_Balance  Loyalty_Points  Campaign_Responses  Social_Media_Activity  Network_Complaints  Service_Downtime_Impact\n",
       "High=value  CUST_00001   29   Male    Student       <$50K           1            Divorced        PhD              West    422.391081       3707.260729   62.953681                  16.767502                  39                    Yes           Corporate Plan     3                         10              Voice Plan              Afternoon        256                    1                     UPI             Late by >5 Days          268.126534           648             0                   High                   5                   High                       1\n",
       "            CUST_00002   39   Male    Student       >$100K          5            Married         PhD              West    278.674350       7492.449343   10.556741                  39.309345                  31                    No            Family Plan        0                         6               Data-Only Plan          Evening          325                    9                     Debit Card      Late by >5 Days          275.718834           693             5                   Moderate               7                   Low                        1\n",
       "            CUST_00004   29   Female  Professional  <$50K           3            Married         Bachelor’s       East    223.073176       7024.336443   144.701083                 29.704597                  8                     No            Postpaid           1                         10              Voice Plan              Night            186                    3                     Credit Card     Late by <5 Days          146.421803           525             0                   Moderate               6                   High                       1\n",
       "            CUST_00006   56   Female  Student       $50K–$100K      4            Single          Bachelor’s       East    323.880709       9110.434683   194.374626                 40.520741                  7                     No            Corporate Plan     0                         7               Data-Only Plan          Morning          124                    9                     Debit Card      Late by <5 Days          225.052436           614             5                   Moderate               3                   Low                        1\n",
       "            CUST_00007   59   Male    Professional  $50K–$100K      5            Divorced        PhD              South   249.390724       13887.815134  1.216219                   18.735659                  20                    No            Postpaid           1                         7               Data-Only Plan          Afternoon        154                    7                     Debit Card      Late by >5 Days          150.718129           375             0                   Low                    8                   High                       1\n",
       "                                                                                                                                                                                                                                                                                                                                                                                                                                                                                                                                                                             ..\n",
       "Mid-value   CUST_00494   42   Male    Retired       <$50K           4            Married         PhD              East    347.023517       19066.811280  71.686663                  13.227144                  20                    No            Postpaid           1                         4               Voice Plan              Afternoon        117                    9                     UPI             Late by >5 Days          373.439128           179             3                   Low                    5                   Low                        1\n",
       "            CUST_00495   36   Female  Student       $50K–$100K      1            Married         PhD              South   862.446741       17238.294376  63.063620                  22.760035                  23                    No            Postpaid           4                         8               Data-Only Plan          Evening          323                    4                     UPI             Late by >5 Days          437.423213           232             5                   Low                    9                   Medium                     1\n",
       "            CUST_00498   18   Male    Unemployed    $50K–$100K      3            Single          Bachelor’s       East    552.862404       15279.915357  64.550178                  47.156793                  44                    No            Family Plan        2                         7               Voice-Data Plan         Night            253                    6                     UPI             Late by <5 Days          370.184444           549             1                   High                   0                   Low                        1\n",
       "            CUST_00499   32   Male    Professional  <$50K           2            Divorced        PhD              North   748.095127       17022.910921  42.590464                  53.659339                  37                    Yes           Corporate Plan     0                         10              Voice-Data Plan         Morning          83                     0                     Net Banking     Late by <5 Days          355.433041           726             4                   Low                    7                   Medium                     1\n",
       "            CUST_00500   22   Male    Unemployed    <$50K           3            Divorced        High School      North   668.398534       19050.025074  116.050571                 4.745746                   18                    No            Postpaid           1                         5               Voice-Data Plan         Evening          2                      5                     Credit Card     Late by <5 Days          464.239655           758             2                   Moderate               3                   Low                        1\n",
       "Name: count, Length: 500, dtype: int64"
      ]
     },
     "execution_count": 8,
     "metadata": {},
     "output_type": "execute_result"
    }
   ],
   "source": [
    "segment_analysis=df.groupby('Segment').value_counts()\n",
    "segment_analysis"
   ]
  },
  {
   "cell_type": "code",
   "execution_count": null,
   "metadata": {},
   "outputs": [
    {
     "data": {
      "text/plain": [
       "Segment     Monthly_Revenue  CLTV          Churn_Status  Feedback_Score\n",
       "High=value  57.186890        4771.238327   No            8                 1\n",
       "            57.712998        12113.398356  No            6                 1\n",
       "            65.475318        10430.095530  No            7                 1\n",
       "            69.264754        8831.185345   No            10                1\n",
       "            72.560845        11364.144202  No            9                 1\n",
       "                                                                          ..\n",
       "Mid-value   968.156551       12715.207567  No            5                 1\n",
       "            968.792204       19708.332177  No            3                 1\n",
       "            988.251721       15055.652729  No            10                1\n",
       "            989.608046       12790.063278  No            8                 1\n",
       "            999.667762       17810.753154  No            8                 1\n",
       "Name: count, Length: 500, dtype: int64"
      ]
     },
     "execution_count": 12,
     "metadata": {},
     "output_type": "execute_result"
    }
   ],
   "source": [
    "metrics=['Monthly_Revenue','CLTV','Churn_Status','Feedback_Score']\n",
    "comparison=df.groupby('Segment')[metrics].value_counts()\n",
    "comparison\n"
   ]
  },
  {
   "cell_type": "code",
   "execution_count": 14,
   "metadata": {},
   "outputs": [
    {
     "data": {
      "image/png": "[encoded data removed]",
      "text/plain": [
       "<Figure size 800x500 with 1 Axes>"
      ]
     },
     "metadata": {},
     "output_type": "display_data"
    }
   ],
   "source": [
    "plt.figure(figsize=(8,5))\n",
    "sns.boxplot(data=df,x='Segment',y='Monthly_Revenue')\n",
    "plt.title('Monthly revenue by segment')\n",
    "plt.show()"
   ]
  },
  {
   "cell_type": "code",
   "execution_count": 19,
   "metadata": {},
   "outputs": [
    {
     "data": {
      "image/png": "[encoded data removed]",
      "text/plain": [
       "<Figure size 400x400 with 1 Axes>"
      ]
     },
     "metadata": {},
     "output_type": "display_data"
    }
   ],
   "source": [
    "plt.figure(figsize=(4,4))\n",
    "sns.barplot(data=df,x='Segment',y='Churn_Status')\n",
    "plt.title('churn rate by segment')\n",
    "plt.show()"
   ]
  },
  {
   "cell_type": "code",
   "execution_count": 24,
   "metadata": {},
   "outputs": [
    {
     "data": {
      "image/png": "[encoded data removed]",
      "text/plain": [
       "<Figure size 400x400 with 1 Axes>"
      ]
     },
     "metadata": {},
     "output_type": "display_data"
    }
   ],
   "source": [
    "plt.figure(figsize=(4,4))\n",
    "sns.barplot(data=df,x='Segment',y='Feedback_Score')\n",
    "plt.title('Feedback score by segment')\n",
    "plt.show()"
   ]
  },
  {
   "cell_type": "code",
   "execution_count": null,
   "metadata": {},
   "outputs": [],
   "source": []
  },
  {
   "cell_type": "code",
   "execution_count": null,
   "metadata": {},
   "outputs": [],
   "source": []
  }
 ],
 "metadata": {
  "kernelspec": {
   "display_name": "cs-env",
   "language": "python",
   "name": "python3"
  },
  "language_info": {
   "codemirror_mode": {
    "name": "ipython",
    "version": 3
   },
   "file_extension": ".py",
   "mimetype": "text/x-python",
   "name": "python",
   "nbconvert_exporter": "python",
   "pygments_lexer": "ipython3",
   "version": "3.11.0"
  }
 },
 "nbformat": 4,
 "nbformat_minor": 2
}
